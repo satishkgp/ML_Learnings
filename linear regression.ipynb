{
 "cells": [
  {
   "cell_type": "code",
   "execution_count": 1,
   "id": "dc835333",
   "metadata": {},
   "outputs": [],
   "source": [
    "#linear regression\n",
    "# y=b1+b2*x\n",
    "# b1-intercept\n",
    "# b2-coefficient\n",
    "#relation between two varaiables by fitting a line"
   ]
  },
  {
   "cell_type": "code",
   "execution_count": 2,
   "id": "89d5b2b7",
   "metadata": {},
   "outputs": [],
   "source": [
    "import pandas as pd\n",
    "import numpy as np\n",
    "import matplotlib.pyplot as plt\n",
    "import statsmodels.api as sm\n",
    "import math\n",
    "\n",
    "from sklearn.model_selection import train_test_split\n",
    "from sklearn.linear_model import LinearRegression\n",
    "from sklearn.metrics import mean_squared_error, r2_score, mean_absolute_error\n",
    "\n",
    "from scipy import stats\n",
    "from scipy.stats import kurtosis, skew\n",
    "\n",
    "%matplotlib inline"
   ]
  },
  {
   "cell_type": "code",
   "execution_count": 3,
   "id": "ae2bd86c",
   "metadata": {},
   "outputs": [
    {
     "data": {
      "text/html": [
       "<div>\n",
       "<style scoped>\n",
       "    .dataframe tbody tr th:only-of-type {\n",
       "        vertical-align: middle;\n",
       "    }\n",
       "\n",
       "    .dataframe tbody tr th {\n",
       "        vertical-align: top;\n",
       "    }\n",
       "\n",
       "    .dataframe thead th {\n",
       "        text-align: right;\n",
       "    }\n",
       "</style>\n",
       "<table border=\"1\" class=\"dataframe\">\n",
       "  <thead>\n",
       "    <tr style=\"text-align: right;\">\n",
       "      <th></th>\n",
       "      <th>exon_price</th>\n",
       "      <th>oil_price</th>\n",
       "    </tr>\n",
       "    <tr>\n",
       "      <th>date</th>\n",
       "      <th></th>\n",
       "      <th></th>\n",
       "    </tr>\n",
       "  </thead>\n",
       "  <tbody>\n",
       "    <tr>\n",
       "      <th>2014-03-28</th>\n",
       "      <td>97.699997</td>\n",
       "      <td>106.64</td>\n",
       "    </tr>\n",
       "    <tr>\n",
       "      <th>2014-03-31</th>\n",
       "      <td>97.680000</td>\n",
       "      <td>105.95</td>\n",
       "    </tr>\n",
       "    <tr>\n",
       "      <th>2014-04-01</th>\n",
       "      <td>97.730003</td>\n",
       "      <td>105.70</td>\n",
       "    </tr>\n",
       "    <tr>\n",
       "      <th>2014-04-02</th>\n",
       "      <td>97.949997</td>\n",
       "      <td>103.37</td>\n",
       "    </tr>\n",
       "    <tr>\n",
       "      <th>2014-04-03</th>\n",
       "      <td>97.930000</td>\n",
       "      <td>104.88</td>\n",
       "    </tr>\n",
       "  </tbody>\n",
       "</table>\n",
       "</div>"
      ],
      "text/plain": [
       "            exon_price  oil_price\n",
       "date                             \n",
       "2014-03-28   97.699997     106.64\n",
       "2014-03-31   97.680000     105.95\n",
       "2014-04-01   97.730003     105.70\n",
       "2014-04-02   97.949997     103.37\n",
       "2014-04-03   97.930000     104.88"
      ]
     },
     "execution_count": 3,
     "metadata": {},
     "output_type": "execute_result"
    }
   ],
   "source": [
    "#load data\n",
    "path=\"oil_exxon.xlsx\"\n",
    "pricedata=pd.read_excel(path)\n",
    "\n",
    "# making date as index\n",
    "# index of pricedata ko change karna hai\n",
    "pricedata.index=pd.to_datetime(pricedata[\"date\"])\n",
    "pricedata=pricedata.drop([\"date\"],axis=1) \n",
    "# 1 means column axis\n",
    "pricedata.head()\n"
   ]
  },
  {
   "cell_type": "markdown",
   "id": "d4945a85",
   "metadata": {},
   "source": [
    "# check the data types"
   ]
  },
  {
   "cell_type": "code",
   "execution_count": 4,
   "id": "16b9fcbf",
   "metadata": {},
   "outputs": [
    {
     "data": {
      "text/plain": [
       "exon_price    float64\n",
       "oil_price     float64\n",
       "dtype: object"
      ]
     },
     "execution_count": 4,
     "metadata": {},
     "output_type": "execute_result"
    }
   ],
   "source": [
    "pricedata.dtypes\n",
    "# ok ok"
   ]
  },
  {
   "cell_type": "code",
   "execution_count": 5,
   "id": "04237780",
   "metadata": {},
   "outputs": [
    {
     "data": {
      "text/html": [
       "<div>\n",
       "<style scoped>\n",
       "    .dataframe tbody tr th:only-of-type {\n",
       "        vertical-align: middle;\n",
       "    }\n",
       "\n",
       "    .dataframe tbody tr th {\n",
       "        vertical-align: top;\n",
       "    }\n",
       "\n",
       "    .dataframe thead th {\n",
       "        text-align: right;\n",
       "    }\n",
       "</style>\n",
       "<table border=\"1\" class=\"dataframe\">\n",
       "  <thead>\n",
       "    <tr style=\"text-align: right;\">\n",
       "      <th></th>\n",
       "      <th>exxonprice</th>\n",
       "      <th>oil_price</th>\n",
       "    </tr>\n",
       "    <tr>\n",
       "      <th>date</th>\n",
       "      <th></th>\n",
       "      <th></th>\n",
       "    </tr>\n",
       "  </thead>\n",
       "  <tbody>\n",
       "    <tr>\n",
       "      <th>2014-03-28</th>\n",
       "      <td>97.699997</td>\n",
       "      <td>106.64</td>\n",
       "    </tr>\n",
       "    <tr>\n",
       "      <th>2014-03-31</th>\n",
       "      <td>97.680000</td>\n",
       "      <td>105.95</td>\n",
       "    </tr>\n",
       "    <tr>\n",
       "      <th>2014-04-01</th>\n",
       "      <td>97.730003</td>\n",
       "      <td>105.70</td>\n",
       "    </tr>\n",
       "    <tr>\n",
       "      <th>2014-04-02</th>\n",
       "      <td>97.949997</td>\n",
       "      <td>103.37</td>\n",
       "    </tr>\n",
       "    <tr>\n",
       "      <th>2014-04-03</th>\n",
       "      <td>97.930000</td>\n",
       "      <td>104.88</td>\n",
       "    </tr>\n",
       "  </tbody>\n",
       "</table>\n",
       "</div>"
      ],
      "text/plain": [
       "            exxonprice  oil_price\n",
       "date                             \n",
       "2014-03-28   97.699997     106.64\n",
       "2014-03-31   97.680000     105.95\n",
       "2014-04-01   97.730003     105.70\n",
       "2014-04-02   97.949997     103.37\n",
       "2014-04-03   97.930000     104.88"
      ]
     },
     "execution_count": 5,
     "metadata": {},
     "output_type": "execute_result"
    }
   ],
   "source": [
    "# defining the new names\n",
    "# change by dictionary\n",
    "newcolumnnames={\"exon_price\":\"exxonprice\"}\n",
    "pricedata=pricedata.rename(columns=newcolumnnames)\n",
    "pricedata.head()"
   ]
  },
  {
   "cell_type": "markdown",
   "id": "9b658bfe",
   "metadata": {},
   "source": [
    "# handling missing values"
   ]
  },
  {
   "cell_type": "code",
   "execution_count": 6,
   "id": "e1b691ac",
   "metadata": {},
   "outputs": [],
   "source": [
    "# fill Nan or drop them\n",
    "pricedata.isna().any()\n",
    "# false means no missing values\n",
    "\n",
    "# lets drop that row\n",
    "# rows with missing values will get deleted\n",
    "pricedata=pricedata.dropna()"
   ]
  },
  {
   "cell_type": "code",
   "execution_count": 7,
   "id": "5543d2c3",
   "metadata": {},
   "outputs": [
    {
     "data": {
      "text/plain": [
       "exxonprice    False\n",
       "oil_price     False\n",
       "dtype: bool"
      ]
     },
     "execution_count": 7,
     "metadata": {},
     "output_type": "execute_result"
    }
   ],
   "source": [
    "pricedata.isna().any()\n",
    "# now no missing values"
   ]
  },
  {
   "cell_type": "markdown",
   "id": "85666265",
   "metadata": {},
   "source": [
    "# explore data"
   ]
  },
  {
   "cell_type": "code",
   "execution_count": 8,
   "id": "33c2aad7",
   "metadata": {},
   "outputs": [],
   "source": [
    "# how data is distributed\n",
    "# is there any appearing the relationsip between the two vraiables\n",
    "# are there any outliers\n",
    "# is data skewed"
   ]
  },
  {
   "cell_type": "code",
   "execution_count": 9,
   "id": "2ff76d7f",
   "metadata": {},
   "outputs": [
    {
     "data": {
      "image/png": "[encoded data removed]",
      "text/plain": [
       "<Figure size 640x480 with 1 Axes>"
      ]
     },
     "metadata": {},
     "output_type": "display_data"
    }
   ],
   "source": [
    "# //scatter plot for relationship finding\n",
    "x=pricedata[\"exxonprice\"]\n",
    "y=pricedata[\"oil_price\"]\n",
    "# //creation fo scatter plot\n",
    "plt.plot(x,y,'o',color=\"red\",label=\"Daily Price\")\n",
    "# formatting of scatter plot\n",
    "plt.title(\"Exxon vs Oil\")\n",
    "plt.xlabel(\"Exxon Price\")\n",
    "plt.ylabel(\"Oil Price\")\n",
    "plt.legend()\n",
    "plt.show()"
   ]
  },
  {
   "cell_type": "code",
   "execution_count": 10,
   "id": "0200972d",
   "metadata": {},
   "outputs": [
    {
     "data": {
      "text/html": [
       "<div>\n",
       "<style scoped>\n",
       "    .dataframe tbody tr th:only-of-type {\n",
       "        vertical-align: middle;\n",
       "    }\n",
       "\n",
       "    .dataframe tbody tr th {\n",
       "        vertical-align: top;\n",
       "    }\n",
       "\n",
       "    .dataframe thead th {\n",
       "        text-align: right;\n",
       "    }\n",
       "</style>\n",
       "<table border=\"1\" class=\"dataframe\">\n",
       "  <thead>\n",
       "    <tr style=\"text-align: right;\">\n",
       "      <th></th>\n",
       "      <th>exxonprice</th>\n",
       "      <th>oil_price</th>\n",
       "    </tr>\n",
       "  </thead>\n",
       "  <tbody>\n",
       "    <tr>\n",
       "      <th>exxonprice</th>\n",
       "      <td>1.00000</td>\n",
       "      <td>0.60132</td>\n",
       "    </tr>\n",
       "    <tr>\n",
       "      <th>oil_price</th>\n",
       "      <td>0.60132</td>\n",
       "      <td>1.00000</td>\n",
       "    </tr>\n",
       "  </tbody>\n",
       "</table>\n",
       "</div>"
      ],
      "text/plain": [
       "            exxonprice  oil_price\n",
       "exxonprice     1.00000    0.60132\n",
       "oil_price      0.60132    1.00000"
      ]
     },
     "execution_count": 10,
     "metadata": {},
     "output_type": "execute_result"
    }
   ],
   "source": [
    "# looks positive coorellation so lets emasure this relation\n",
    "pricedata.corr()\n",
    "# >0.8 very strong relation\n",
    "# >0.6 strong relation\n",
    "# 0.45 moderate relation\n",
    "# 0.25 weak relation"
   ]
  },
  {
   "cell_type": "code",
   "execution_count": 11,
   "id": "b4106800",
   "metadata": {},
   "outputs": [
    {
     "data": {
      "text/html": [
       "<div>\n",
       "<style scoped>\n",
       "    .dataframe tbody tr th:only-of-type {\n",
       "        vertical-align: middle;\n",
       "    }\n",
       "\n",
       "    .dataframe tbody tr th {\n",
       "        vertical-align: top;\n",
       "    }\n",
       "\n",
       "    .dataframe thead th {\n",
       "        text-align: right;\n",
       "    }\n",
       "</style>\n",
       "<table border=\"1\" class=\"dataframe\">\n",
       "  <thead>\n",
       "    <tr style=\"text-align: right;\">\n",
       "      <th></th>\n",
       "      <th>exxonprice</th>\n",
       "      <th>oil_price</th>\n",
       "    </tr>\n",
       "  </thead>\n",
       "  <tbody>\n",
       "    <tr>\n",
       "      <th>count</th>\n",
       "      <td>1248.000000</td>\n",
       "      <td>1248.000000</td>\n",
       "    </tr>\n",
       "    <tr>\n",
       "      <th>mean</th>\n",
       "      <td>84.802796</td>\n",
       "      <td>61.935000</td>\n",
       "    </tr>\n",
       "    <tr>\n",
       "      <th>std</th>\n",
       "      <td>7.424687</td>\n",
       "      <td>19.288424</td>\n",
       "    </tr>\n",
       "    <tr>\n",
       "      <th>min</th>\n",
       "      <td>68.120003</td>\n",
       "      <td>26.010000</td>\n",
       "    </tr>\n",
       "    <tr>\n",
       "      <th>25%</th>\n",
       "      <td>80.190002</td>\n",
       "      <td>48.162500</td>\n",
       "    </tr>\n",
       "    <tr>\n",
       "      <th>50%</th>\n",
       "      <td>83.024998</td>\n",
       "      <td>57.120000</td>\n",
       "    </tr>\n",
       "    <tr>\n",
       "      <th>75%</th>\n",
       "      <td>88.529999</td>\n",
       "      <td>70.725000</td>\n",
       "    </tr>\n",
       "    <tr>\n",
       "      <th>max</th>\n",
       "      <td>104.379997</td>\n",
       "      <td>115.190000</td>\n",
       "    </tr>\n",
       "  </tbody>\n",
       "</table>\n",
       "</div>"
      ],
      "text/plain": [
       "        exxonprice    oil_price\n",
       "count  1248.000000  1248.000000\n",
       "mean     84.802796    61.935000\n",
       "std       7.424687    19.288424\n",
       "min      68.120003    26.010000\n",
       "25%      80.190002    48.162500\n",
       "50%      83.024998    57.120000\n",
       "75%      88.529999    70.725000\n",
       "max     104.379997   115.190000"
      ]
     },
     "execution_count": 11,
     "metadata": {},
     "output_type": "execute_result"
    }
   ],
   "source": [
    "pricedata.describe()"
   ]
  },
  {
   "cell_type": "code",
   "execution_count": 12,
   "id": "ba78b3c6",
   "metadata": {},
   "outputs": [],
   "source": [
    "# we can see that 75% values falls under standard deviation so good data"
   ]
  },
  {
   "cell_type": "markdown",
   "id": "04807562",
   "metadata": {},
   "source": [
    "# checking for skewness and outliers"
   ]
  },
  {
   "cell_type": "code",
   "execution_count": 13,
   "id": "f6dd4f71",
   "metadata": {},
   "outputs": [],
   "source": [
    "# we dont want outliers and also not skewed data as impact the model training\n",
    "# //so lets draw the histogram\n",
    "# //+ve skewed (symmetry)means +ve ki taraf extended hai\n",
    "#+ve kurtosis means data is highly tailed than normal distribution maximam=>LeptoKurtic\n",
    "#-ve kurtosis means data is lower tailed than normal distribution maximam=>PlatyKurtic"
   ]
  },
  {
   "cell_type": "code",
   "execution_count": 14,
   "id": "0da32de1",
   "metadata": {},
   "outputs": [
    {
     "data": {
      "text/plain": [
       "array([[<AxesSubplot:title={'center':'exxonprice'}>,\n",
       "        <AxesSubplot:title={'center':'oil_price'}>]], dtype=object)"
      ]
     },
     "execution_count": 14,
     "metadata": {},
     "output_type": "execute_result"
    },
    {
     "data": {
      "image/png": "[encoded data removed]",
      "text/plain": [
       "<Figure size 640x480 with 2 Axes>"
      ]
     },
     "metadata": {},
     "output_type": "display_data"
    }
   ],
   "source": [
    "pricedata.hist(grid=False,color=\"blue\")\n",
    "# //grid false means cells linings nahi rahenge"
   ]
  },
  {
   "cell_type": "code",
   "execution_count": 15,
   "id": "324acb64",
   "metadata": {},
   "outputs": [
    {
     "data": {
      "text/plain": [
       "'Exxon kurtosis : 0.08838507514930338'"
      ]
     },
     "metadata": {},
     "output_type": "display_data"
    },
    {
     "data": {
      "text/plain": [
       "'Oil kurtosis : 0.5321055130944878'"
      ]
     },
     "metadata": {},
     "output_type": "display_data"
    },
    {
     "data": {
      "text/plain": [
       "'Exxon Skew : 0.66024881165324'"
      ]
     },
     "metadata": {},
     "output_type": "display_data"
    },
    {
     "data": {
      "text/plain": [
       "'Exxon Skew : 1.024326574686099'"
      ]
     },
     "metadata": {},
     "output_type": "display_data"
    }
   ],
   "source": [
    "# slightely skwed to right\n",
    "# //calculating kurtosis and skewed\n",
    "\n",
    "# //excess kurtosis by using fisher method, \n",
    "# regular kurtosis can be calculated by regular kurtosis\n",
    "exxon_kurtosis=kurtosis(pricedata['exxonprice'],fisher=True)\n",
    "oil_kurtosis=kurtosis(pricedata['oil_price'],fisher=True)\n",
    "\n",
    "# //skewness calculation\n",
    "exxon_skew=skew(pricedata['exxonprice'])\n",
    "oil_skew=skew(pricedata['oil_price'])\n",
    "\n",
    "display(\"Exxon kurtosis : {:2}\".format(exxon_kurtosis))\n",
    "display(\"Oil kurtosis : {:2}\".format(oil_kurtosis))\n",
    "display(\"Exxon Skew : {:2}\".format(exxon_skew))\n",
    "display(\"Exxon Skew : {:2}\".format(oil_skew))\n",
    "\n",
    "# //here we can see that oil is rightly skewed so we need may to apply some trasnformation"
   ]
  },
  {
   "cell_type": "code",
   "execution_count": 16,
   "id": "955613fa",
   "metadata": {},
   "outputs": [],
   "source": [
    "# Kurtosis\n",
    "\n",
    "# Any distribution with kurtosis ≈3 (excess ≈0) is called mesokurtic. This is a normal distribution\n",
    "# Any distribution with kurtosis <3 (excess kurtosis <0) is called platykurtic. Tails are shorter and thinner, and often its central peak is lower and broader.\n",
    "# Any distribution with kurtosis >3 (excess kurtosis >0) is called leptokurtic. Tails are longer and fatter, and often its central peak is higher and sharper.\n",
    "\n",
    "# Skewness\n",
    "\n",
    "# If skewness is less than −1 or greater than +1, the distribution is highly skewed.\n",
    "# If skewness is between −1 and −½ or between +½ and +1, the distribution is moderately skewed.\n",
    "# If skewness is between −½ and +½, the distribution is approximately symmetric."
   ]
  },
  {
   "cell_type": "markdown",
   "id": "7d0e0e49",
   "metadata": {},
   "source": [
    "# Hypothesis testing"
   ]
  },
  {
   "cell_type": "code",
   "execution_count": 17,
   "id": "cd98b9f4",
   "metadata": {},
   "outputs": [
    {
     "data": {
      "text/plain": [
       "'Exxon'"
      ]
     },
     "metadata": {},
     "output_type": "display_data"
    },
    {
     "data": {
      "text/plain": [
       "KurtosistestResult(statistic=0.7185349375030217, pvalue=0.47242751383320714)"
      ]
     },
     "metadata": {},
     "output_type": "display_data"
    },
    {
     "data": {
      "text/plain": [
       "'Oil'"
      ]
     },
     "metadata": {},
     "output_type": "display_data"
    },
    {
     "data": {
      "text/plain": [
       "KurtosistestResult(statistic=3.193868719980946, pvalue=0.0014037993965471192)"
      ]
     },
     "metadata": {},
     "output_type": "display_data"
    },
    {
     "data": {
      "text/plain": [
       "'Exxon'"
      ]
     },
     "metadata": {},
     "output_type": "display_data"
    },
    {
     "data": {
      "text/plain": [
       "SkewtestResult(statistic=8.770169400598549, pvalue=1.7839768456341654e-18)"
      ]
     },
     "metadata": {},
     "output_type": "display_data"
    },
    {
     "data": {
      "text/plain": [
       "'Oil'"
      ]
     },
     "metadata": {},
     "output_type": "display_data"
    },
    {
     "data": {
      "text/plain": [
       "SkewtestResult(statistic=12.471137868018896, pvalue=1.0728306198159923e-35)"
      ]
     },
     "metadata": {},
     "output_type": "display_data"
    }
   ],
   "source": [
    "# kurtosis and skewtest for checking data is  normally distributted\n",
    "display(\"Exxon\")\n",
    "display(stats.kurtosistest(pricedata['exxonprice']))\n",
    "display(\"Oil\")\n",
    "display(stats.kurtosistest(pricedata['oil_price']))\n",
    "# //skewtest\n",
    "display(\"Exxon\")\n",
    "display(stats.skewtest(pricedata['exxonprice']))\n",
    "display(\"Oil\")\n",
    "display(stats.skewtest(pricedata['oil_price']))"
   ]
  },
  {
   "cell_type": "markdown",
   "id": "ee5b3e90",
   "metadata": {},
   "source": [
    "# Build the model"
   ]
  },
  {
   "cell_type": "markdown",
   "id": "4543352b",
   "metadata": {},
   "source": [
    "# split the data"
   ]
  },
  {
   "cell_type": "code",
   "execution_count": 18,
   "id": "f253e91c",
   "metadata": {},
   "outputs": [],
   "source": [
    "# variable defining\n",
    "# //our output varaibale is exxon price\n",
    "Y=pricedata.drop([\"oil_price\"],axis=1)\n",
    "X=pricedata[[\"oil_price\"]]\n",
    "\n",
    "# split the data\n",
    "# pahle first varaible then second varaible\n",
    "X_train,X_test,Y_train,Y_test=train_test_split(X,Y,test_size=0.2,random_state=1)\n",
    "# //random state 1 means every time break the data in 80:20% ratio and use"
   ]
  },
  {
   "cell_type": "markdown",
   "id": "5e699ed3",
   "metadata": {},
   "source": [
    "# create and fit the model"
   ]
  },
  {
   "cell_type": "code",
   "execution_count": 19,
   "id": "9c79acd8",
   "metadata": {},
   "outputs": [
    {
     "data": {
      "text/plain": [
       "LinearRegression()"
      ]
     },
     "execution_count": 19,
     "metadata": {},
     "output_type": "execute_result"
    }
   ],
   "source": [
    "# //instance\n",
    "lrmodel=LinearRegression()\n",
    "# //training\n",
    "lrmodel.fit(X_train,Y_train)"
   ]
  },
  {
   "cell_type": "code",
   "execution_count": 20,
   "id": "385a1f1d",
   "metadata": {},
   "outputs": [],
   "source": [
    "# //explore the output so lets know the slope and intercept"
   ]
  },
  {
   "cell_type": "code",
   "execution_count": 21,
   "id": "9468ecde",
   "metadata": {},
   "outputs": [
    {
     "name": "stdout",
     "output_type": "stream",
     "text": [
      "Coefficient: 0.229\n",
      "intercept: 70.5\n"
     ]
    }
   ],
   "source": [
    "intercept=lrmodel.intercept_[0]\n",
    "coefficient=lrmodel.coef_[0][0]\n",
    "\n",
    "print(\"Coefficient: {:.3}\".format(coefficient))\n",
    "print(\"intercept: {:.3}\".format(intercept))"
   ]
  },
  {
   "cell_type": "code",
   "execution_count": 22,
   "id": "5fd82658",
   "metadata": {},
   "outputs": [],
   "source": [
    "# coefficeint means single unit increase in oil \n",
    "# results in 0.229 increase in exxon price"
   ]
  },
  {
   "cell_type": "markdown",
   "id": "852dd452",
   "metadata": {},
   "source": [
    "# //lets take a single prediction"
   ]
  },
  {
   "cell_type": "code",
   "execution_count": 23,
   "id": "9824563b",
   "metadata": {},
   "outputs": [
    {
     "name": "stdout",
     "output_type": "stream",
     "text": [
      "Predicted coeff : 83.2\n"
     ]
    },
    {
     "name": "stderr",
     "output_type": "stream",
     "text": [
      "C:\\Users\\User\\anaconda3\\lib\\site-packages\\sklearn\\base.py:450: UserWarning: X does not have valid feature names, but LinearRegression was fitted with feature names\n",
      "  warnings.warn(\n"
     ]
    }
   ],
   "source": [
    "prediction=lrmodel.predict([[55.23]])\n",
    "prediction_coef=prediction[0][0]\n",
    "print(\"Predicted coeff : {:.3}\".format(prediction_coef))"
   ]
  },
  {
   "cell_type": "markdown",
   "id": "fcadb840",
   "metadata": {},
   "source": [
    "# multiple predictions"
   ]
  },
  {
   "cell_type": "code",
   "execution_count": 24,
   "id": "a5b34a54",
   "metadata": {},
   "outputs": [
    {
     "data": {
      "text/plain": [
       "array([[82.39718427],\n",
       "       [83.0168246 ],\n",
       "       [81.66738567],\n",
       "       [79.18882438],\n",
       "       [84.12070236]])"
      ]
     },
     "execution_count": 24,
     "metadata": {},
     "output_type": "execute_result"
    }
   ],
   "source": [
    "ypred=lrmodel.predict(X_test)\n",
    "ypred[:5]\n",
    "# //last 5 prices"
   ]
  },
  {
   "cell_type": "markdown",
   "id": "4341f5ca",
   "metadata": {},
   "source": [
    "# Evaluting the model"
   ]
  },
  {
   "cell_type": "code",
   "execution_count": 27,
   "id": "7427ac17",
   "metadata": {},
   "outputs": [],
   "source": [
    "# # building the model from statsmodel library and will \n",
    "# # compare with the output with skelarn mdodels\n",
    "\n",
    "# # //definiing the input\n",
    "# x2=sm.add_constant(X)\n",
    "# # // create a OLS model\n",
    "# model=sm.OLS(Y,x2)\n",
    "\n",
    "# # //fit the data\n",
    "# est=model.fit()\n"
   ]
  },
  {
   "cell_type": "code",
   "execution_count": 28,
   "id": "cb53ea05",
   "metadata": {},
   "outputs": [],
   "source": [
    "# # //confidence intervals\n",
    "# est.conf_int()"
   ]
  },
  {
   "cell_type": "code",
   "execution_count": 31,
   "id": "ad127220",
   "metadata": {},
   "outputs": [
    {
     "name": "stdout",
     "output_type": "stream",
     "text": [
      "Mean absolute error : 5.05\n",
      "Mean Sqaured error : 38.8\n",
      "Mean Root mean sqaured error : 6.23\n"
     ]
    }
   ],
   "source": [
    "# Means abosolute error and mean squared error\n",
    "model_mse=mean_squared_error(Y_test,ypred)\n",
    "# //give idea  of magnitude of error\n",
    "model_mae=mean_absolute_error(Y_test,ypred)\n",
    "model_rmse=math.sqrt(model_mse)\n",
    "\n",
    "\n",
    "print(\"Mean absolute error : {:.3}\".format(model_mae))\n",
    "print(\"Mean Sqaured error : {:.3}\".format(model_mse))\n",
    "print(\"Mean Root mean sqaured error : {:.3}\".format(model_rmse))"
   ]
  },
  {
   "cell_type": "code",
   "execution_count": 32,
   "id": "8bb7ee02",
   "metadata": {},
   "outputs": [
    {
     "name": "stdout",
     "output_type": "stream",
     "text": [
      "R sqaured : 0.363\n"
     ]
    }
   ],
   "source": [
    "# R-squared\n",
    "# provide goodness of the fit of line\n",
    "# ->r-squared increases as the no. of features increases\n",
    "\n",
    "modelr2=r2_score(Y_test,ypred)\n",
    "print(\"R sqaured : {:.3}\".format(modelr2))"
   ]
  },
  {
   "cell_type": "markdown",
   "id": "c70d20b3",
   "metadata": {},
   "source": [
    "# Summary of the output"
   ]
  },
  {
   "cell_type": "code",
   "execution_count": 33,
   "id": "5ed403d5",
   "metadata": {},
   "outputs": [
    {
     "name": "stdout",
     "output_type": "stream",
     "text": [
      "                            OLS Regression Results                            \n",
      "==============================================================================\n",
      "Dep. Variable:             exxonprice   R-squared:                       0.362\n",
      "Model:                            OLS   Adj. R-squared:                  0.361\n",
      "Method:                 Least Squares   F-statistic:                     705.7\n",
      "Date:                Wed, 15 Feb 2023   Prob (F-statistic):          1.42e-123\n",
      "Time:                        21:48:50   Log-Likelihood:                -3992.3\n",
      "No. Observations:                1248   AIC:                             7989.\n",
      "Df Residuals:                    1246   BIC:                             7999.\n",
      "Df Model:                           1                                         \n",
      "Covariance Type:            nonrobust                                         \n",
      "==============================================================================\n",
      "                 coef    std err          t      P>|t|      [0.025      0.975]\n",
      "------------------------------------------------------------------------------\n",
      "const         70.4670      0.565    124.678      0.000      69.358      71.576\n",
      "oil_price      0.2315      0.009     26.565      0.000       0.214       0.249\n",
      "==============================================================================\n",
      "Omnibus:                       61.541   Durbin-Watson:                   0.024\n",
      "Prob(Omnibus):                  0.000   Jarque-Bera (JB):               31.074\n",
      "Skew:                          -0.198   Prob(JB):                     1.79e-07\n",
      "Kurtosis:                       2.337   Cond. No.                         218.\n",
      "==============================================================================\n",
      "\n",
      "Notes:\n",
      "[1] Standard Errors assume that the covariance matrix of the errors is correctly specified.\n"
     ]
    }
   ],
   "source": [
    "print(est.summary())"
   ]
  },
  {
   "cell_type": "code",
   "execution_count": 34,
   "id": "72f39217",
   "metadata": {},
   "outputs": [
    {
     "data": {
      "text/plain": [
       "array([[<AxesSubplot:title={'center':'exxonprice'}>]], dtype=object)"
      ]
     },
     "execution_count": 34,
     "metadata": {},
     "output_type": "execute_result"
    },
    {
     "data": {
      "image/png": "[encoded data removed]",
      "text/plain": [
       "<Figure size 640x480 with 1 Axes>"
      ]
     },
     "metadata": {},
     "output_type": "display_data"
    }
   ],
   "source": [
    "# //plotting the residuals\n",
    "(Y_test-ypred).hist(grid=False,color=\"blue\")"
   ]
  },
  {
   "cell_type": "code",
   "execution_count": 38,
   "id": "3cc97b23",
   "metadata": {},
   "outputs": [
    {
     "data": {
      "image/png": "[encoded data removed]",
      "text/plain": [
       "<Figure size 640x480 with 1 Axes>"
      ]
     },
     "metadata": {},
     "output_type": "display_data"
    }
   ],
   "source": [
    "plt.scatter(X_test,Y_test,color=\"grey\",label=\"Price\")\n",
    "plt.plot(X_test,ypred,color=\"blue\",linewidth=3,linestyle=\"-\",label=\"Regression line\")\n",
    "plt.title(\"Linear Regression model exxon vs oil\")\n",
    "plt.xlabel(\"Oil\")\n",
    "plt.ylabel(\"Exxon\")\n",
    "plt.legend()\n",
    "plt.show()"
   ]
  },
  {
   "cell_type": "code",
   "execution_count": 39,
   "id": "2e109b5b",
   "metadata": {},
   "outputs": [
    {
     "name": "stderr",
     "output_type": "stream",
     "text": [
      "C:\\Users\\User\\anaconda3\\lib\\site-packages\\sklearn\\base.py:450: UserWarning: X does not have valid feature names, but LinearRegression was fitted with feature names\n",
      "  warnings.warn(\n"
     ]
    },
    {
     "data": {
      "text/plain": [
       "array([[85.92224922]])"
      ]
     },
     "execution_count": 39,
     "metadata": {},
     "output_type": "execute_result"
    }
   ],
   "source": [
    "# //save the mdoel\n",
    "import pickle\n",
    "# //pikle the model\n",
    "with open(\"my_linear_regression.sav\",\"wb\") as f:\n",
    "    pickle.dump(lrmodel,f)\n",
    "# load back the model\n",
    "with open(\"my_linear_regression.sav\",\"rb\") as f:\n",
    "    lrmodel2=pickle.load(f)\n",
    "\n",
    "# //making new predictions\n",
    "lrmodel2.predict([[67]])"
   ]
  },
  {
   "cell_type": "code",
   "execution_count": null,
   "id": "ae325f7b",
   "metadata": {},
   "outputs": [],
   "source": []
  },
  {
   "cell_type": "code",
   "execution_count": null,
   "id": "9bb43183",
   "metadata": {},
   "outputs": [],
   "source": []
  },
  {
   "cell_type": "code",
   "execution_count": null,
   "id": "afedb699",
   "metadata": {},
   "outputs": [],
   "source": []
  },
  {
   "cell_type": "code",
   "execution_count": null,
   "id": "dfc11393",
   "metadata": {},
   "outputs": [],
   "source": []
  },
  {
   "cell_type": "code",
   "execution_count": null,
   "id": "12d99808",
   "metadata": {},
   "outputs": [],
   "source": []
  }
 ],
 "metadata": {
  "kernelspec": {
   "display_name": "Python 3 (ipykernel)",
   "language": "python",
   "name": "python3"
  },
  "language_info": {
   "codemirror_mode": {
    "name": "ipython",
    "version": 3
   },
   "file_extension": ".py",
   "mimetype": "text/x-python",
   "name": "python",
   "nbconvert_exporter": "python",
   "pygments_lexer": "ipython3",
   "version": "3.9.13"
  }
 },
 "nbformat": 4,
 "nbformat_minor": 5
}
