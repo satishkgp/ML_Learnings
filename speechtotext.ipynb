{
 "cells": [
  {
   "cell_type": "code",
   "execution_count": 1,
   "id": "6a48465b",
   "metadata": {},
   "outputs": [
    {
     "name": "stdout",
     "output_type": "stream",
     "text": [
      "Requirement already satisfied: SpeechRecognition in c:\\users\\user\\anaconda3\\lib\\site-packages (3.9.0)\n",
      "Requirement already satisfied: requests>=2.26.0 in c:\\users\\user\\anaconda3\\lib\\site-packages (from SpeechRecognition) (2.28.1)\n",
      "Requirement already satisfied: charset-normalizer<3,>=2 in c:\\users\\user\\anaconda3\\lib\\site-packages (from requests>=2.26.0->SpeechRecognition) (2.0.4)\n",
      "Requirement already satisfied: certifi>=2017.4.17 in c:\\users\\user\\anaconda3\\lib\\site-packages (from requests>=2.26.0->SpeechRecognition) (2022.9.14)\n",
      "Requirement already satisfied: urllib3<1.27,>=1.21.1 in c:\\users\\user\\anaconda3\\lib\\site-packages (from requests>=2.26.0->SpeechRecognition) (1.26.11)\n",
      "Requirement already satisfied: idna<4,>=2.5 in c:\\users\\user\\anaconda3\\lib\\site-packages (from requests>=2.26.0->SpeechRecognition) (3.3)\n",
      "Requirement already satisfied: pyaudio in c:\\users\\user\\anaconda3\\lib\\site-packages (0.2.13)\n"
     ]
    }
   ],
   "source": [
    "#installing the module\n",
    "!pip install SpeechRecognition\n",
    "!pip install pyaudio"
   ]
  },
  {
   "cell_type": "code",
   "execution_count": 2,
   "id": "2a56e2e6",
   "metadata": {
    "scrolled": true
   },
   "outputs": [],
   "source": [
    "# importing the module\n",
    "import speech_recognition as sr"
   ]
  },
  {
   "cell_type": "code",
   "execution_count": 3,
   "id": "695a94dc",
   "metadata": {},
   "outputs": [],
   "source": [
    "# initialiation\n",
    "r=sr.Recognizer()"
   ]
  },
  {
   "cell_type": "code",
   "execution_count": null,
   "id": "abb81dda",
   "metadata": {},
   "outputs": [
    {
     "name": "stdout",
     "output_type": "stream",
     "text": [
      "speak now\n"
     ]
    }
   ],
   "source": [
    "# taking speech in realtime\n",
    "while True:\n",
    "  # capture microphone\n",
    "  with sr.Microphone() as source:\n",
    "    # clear background noise\n",
    "    r.adjust_for_ambient_noise(source,duration=0.5)\n",
    "    print(\"speak now\")\n",
    "    # capturing the audio\n",
    "    audio=r.listen(source)\n",
    "\n",
    "    try:\n",
    "      text=r.recognize_google(audio)\n",
    "      print(\"Speaker\",text)\n",
    "    except:\n",
    "      print(\"please say again!!\")\n"
   ]
  },
  {
   "cell_type": "code",
   "execution_count": 7,
   "id": "bb65a67c",
   "metadata": {},
   "outputs": [
    {
     "name": "stdout",
     "output_type": "stream",
     "text": [
      "speak now\n",
      "please say again!!\n"
     ]
    }
   ],
   "source": [
    "# try:\n",
    "#     with sr.Microphone() as source:\n",
    "#         r.adjust_for_ambient_noise(source,duration=5)\n",
    "#         print(\"speak now\")\n",
    "#         # capturing the audio\n",
    "#         audio=r.listen(source)\n",
    "#         text=r.recognize_google(audio)\n",
    "#         print(\"Speaker\",text)\n",
    "# except:\n",
    "#     print(\"please say again!!\")\n"
   ]
  },
  {
   "cell_type": "code",
   "execution_count": null,
   "id": "f0fe17cb",
   "metadata": {},
   "outputs": [],
   "source": []
  },
  {
   "cell_type": "code",
   "execution_count": null,
   "id": "87c3f129",
   "metadata": {},
   "outputs": [],
   "source": []
  },
  {
   "cell_type": "code",
   "execution_count": null,
   "id": "15f8f4e5",
   "metadata": {},
   "outputs": [],
   "source": []
  },
  {
   "cell_type": "code",
   "execution_count": null,
   "id": "0a3d3c60",
   "metadata": {},
   "outputs": [],
   "source": []
  },
  {
   "cell_type": "code",
   "execution_count": null,
   "id": "58b00336",
   "metadata": {},
   "outputs": [],
   "source": []
  }
 ],
 "metadata": {
  "kernelspec": {
   "display_name": "Python 3 (ipykernel)",
   "language": "python",
   "name": "python3"
  },
  "language_info": {
   "codemirror_mode": {
    "name": "ipython",
    "version": 3
   },
   "file_extension": ".py",
   "mimetype": "text/x-python",
   "name": "python",
   "nbconvert_exporter": "python",
   "pygments_lexer": "ipython3",
   "version": "3.9.13"
  },
  "vscode": {
   "interpreter": {
    "hash": "1ef38ba351f49653a9e18cd6ddcab0cb8cc90acb49083ed32ff938b40cf2cafc"
   }
  }
 },
 "nbformat": 4,
 "nbformat_minor": 5
}
